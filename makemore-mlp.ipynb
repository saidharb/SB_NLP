{
 "cells": [
  {
   "cell_type": "code",
   "execution_count": 3,
   "id": "f4e1cadb-a6d2-49a2-8c27-cf72e3ad688c",
   "metadata": {},
   "outputs": [],
   "source": [
    "import torch\n",
    "import torch.nn.functional as F\n",
    "import matplotlib.pyplot as plt\n",
    "%matplotlib inline"
   ]
  },
  {
   "cell_type": "code",
   "execution_count": 4,
   "id": "be61350b-80ee-450d-b2fe-3764ca954f59",
   "metadata": {},
   "outputs": [
    {
     "data": {
      "text/plain": [
       "['emma', 'olivia', 'ava', 'isabella', 'sophia', 'charlotte', 'mia', 'amelia']"
      ]
     },
     "execution_count": 4,
     "metadata": {},
     "output_type": "execute_result"
    }
   ],
   "source": [
    "words = open('datasets/names.txt', 'r').read().splitlines()\n",
    "words[:8]"
   ]
  },
  {
   "cell_type": "code",
   "execution_count": 6,
   "id": "4f15fba4-c712-4ba4-aa33-488bcda1f21c",
   "metadata": {},
   "outputs": [
    {
     "name": "stdout",
     "output_type": "stream",
     "text": [
      "{1: 'a', 2: 'b', 3: 'c', 4: 'd', 5: 'e', 6: 'f', 7: 'g', 8: 'h', 9: 'i', 10: 'j', 11: 'k', 12: 'l', 13: 'm', 14: 'n', 15: 'o', 16: 'p', 17: 'q', 18: 'r', 19: 's', 20: 't', 21: 'u', 22: 'v', 23: 'w', 24: 'x', 25: 'y', 26: 'z', 0: '.'}\n"
     ]
    }
   ],
   "source": [
    "chars = sorted(list(set(''.join(words))))\n",
    "stoi = {s:i+1 for i,s in enumerate(chars)}\n",
    "stoi['.'] = 0\n",
    "itos = {i:s for s,i in stoi.items()}\n",
    "print(itos) "
   ]
  },
  {
   "cell_type": "code",
   "execution_count": 77,
   "id": "eab9ff79-f3dc-4125-9b7c-1e607cc4550b",
   "metadata": {},
   "outputs": [],
   "source": [
    "block_size = 3\n",
    "X, Y = [], []\n",
    "for w in words:\n",
    "   # print(w)\n",
    "    context = [0] * block_size\n",
    "    for ch in w + '.':\n",
    "        ix = stoi[ch]\n",
    "        X.append(context)\n",
    "        Y.append(ix)\n",
    "        #print(''.join(itos[i] for i in context), '--->', itos[ix])\n",
    "        context = context[1:] + [ix]\n",
    "\n",
    "X = torch.tensor(X)\n",
    "Y = torch.tensor(Y)"
   ]
  },
  {
   "cell_type": "code",
   "execution_count": 186,
   "id": "a6a8a661-b860-4bc8-ac2b-d9b539b23bed",
   "metadata": {},
   "outputs": [
    {
     "name": "stdout",
     "output_type": "stream",
     "text": [
      "torch.Size([182625, 3]) torch.Size([182625])\n",
      "torch.Size([22655, 3]) torch.Size([22655])\n",
      "torch.Size([22866, 3]) torch.Size([22866])\n"
     ]
    }
   ],
   "source": [
    "# build the dataset\n",
    "block_size = 3 # context length: how many characters do we take to predict the next one?\n",
    "\n",
    "def build_dataset(words):  \n",
    "  X, Y = [], []\n",
    "  for w in words:\n",
    "\n",
    "    #print(w)\n",
    "    context = [0] * block_size\n",
    "    for ch in w + '.':\n",
    "      ix = stoi[ch]\n",
    "      X.append(context)\n",
    "      Y.append(ix)\n",
    "      #print(''.join(itos[i] for i in context), '--->', itos[ix])\n",
    "      context = context[1:] + [ix] # crop and append\n",
    "\n",
    "  X = torch.tensor(X)\n",
    "  Y = torch.tensor(Y)\n",
    "  print(X.shape, Y.shape)\n",
    "  return X, Y\n",
    "\n",
    "import random\n",
    "random.seed(42)\n",
    "random.shuffle(words)\n",
    "n1 = int(0.8*len(words))\n",
    "n2 = int(0.9*len(words))\n",
    "\n",
    "Xtr, Ytr = build_dataset(words[:n1])\n",
    "Xdev, Ydev = build_dataset(words[n1:n2])\n",
    "Xte, Yte = build_dataset(words[n2:])"
   ]
  },
  {
   "cell_type": "code",
   "execution_count": 11,
   "id": "93af9c32-7812-483c-9b0b-a8b1abc911b5",
   "metadata": {},
   "outputs": [],
   "source": [
    "C = torch.randn((27, 2))"
   ]
  },
  {
   "cell_type": "code",
   "execution_count": 21,
   "id": "c2ee5c08-e065-436e-aa45-60a96454dc67",
   "metadata": {},
   "outputs": [
    {
     "data": {
      "text/plain": [
       "tensor([ 2.8974, -0.8922])"
      ]
     },
     "execution_count": 21,
     "metadata": {},
     "output_type": "execute_result"
    }
   ],
   "source": [
    "F.one_hot(torch.tensor(5), num_classes = 27).float() @ C"
   ]
  },
  {
   "cell_type": "code",
   "execution_count": 19,
   "id": "605c6102-eba1-40fa-84c2-0e1ed200b88b",
   "metadata": {},
   "outputs": [
    {
     "data": {
      "text/plain": [
       "torch.Size([32, 3, 2])"
      ]
     },
     "execution_count": 19,
     "metadata": {},
     "output_type": "execute_result"
    }
   ],
   "source": [
    "emb = C[X]\n",
    "emb.shape"
   ]
  },
  {
   "cell_type": "code",
   "execution_count": 26,
   "id": "db47ee84-e80b-4f66-9bc0-4973f6a8dcf2",
   "metadata": {},
   "outputs": [],
   "source": [
    "W1 = torch.randn((6, 100))\n",
    "b1 = torch.randn(100)"
   ]
  },
  {
   "cell_type": "code",
   "execution_count": 37,
   "id": "96528f53-f6a3-42de-9e5a-ac9bf1707348",
   "metadata": {},
   "outputs": [],
   "source": [
    "h = torch.tanh(emb.view(-1, 6) @ W1 + b1) # setting it to -1 pytorch will infer the correct dimension, \n",
    "# as the number of elements has to stay the same"
   ]
  },
  {
   "cell_type": "code",
   "execution_count": 38,
   "id": "4fb6e3d0-ef9a-400b-8972-6456ac634f2e",
   "metadata": {},
   "outputs": [
    {
     "data": {
      "text/plain": [
       "torch.Size([32, 100])"
      ]
     },
     "execution_count": 38,
     "metadata": {},
     "output_type": "execute_result"
    }
   ],
   "source": [
    "h.shape"
   ]
  },
  {
   "cell_type": "code",
   "execution_count": 39,
   "id": "7b57c4c5-6121-46fd-8df7-3256f31255f8",
   "metadata": {},
   "outputs": [],
   "source": [
    "W2 = torch.randn((100, 27))\n",
    "b2 = torch.randn(27)"
   ]
  },
  {
   "cell_type": "code",
   "execution_count": 43,
   "id": "c10b0617-8a78-4fbb-bb16-774bee4bcaf7",
   "metadata": {},
   "outputs": [],
   "source": [
    "logits = h @ W2 + b2"
   ]
  },
  {
   "cell_type": "code",
   "execution_count": 45,
   "id": "3e14846a-f524-469b-b2fe-087ab3f32b21",
   "metadata": {},
   "outputs": [],
   "source": [
    "counts = logits.exp()"
   ]
  },
  {
   "cell_type": "code",
   "execution_count": 46,
   "id": "68a1229b-0d75-4a24-ad1b-46a1d7d41045",
   "metadata": {},
   "outputs": [],
   "source": [
    "prob = counts / counts.sum(1, keepdims = True)"
   ]
  },
  {
   "cell_type": "code",
   "execution_count": 50,
   "id": "d23bf0b0-1e1d-447a-bbf3-32679d40ab30",
   "metadata": {},
   "outputs": [
    {
     "data": {
      "text/plain": [
       "tensor(16.0211)"
      ]
     },
     "execution_count": 50,
     "metadata": {},
     "output_type": "execute_result"
    }
   ],
   "source": [
    "loss = -prob[torch.arange(32), Y].log().mean()\n",
    "loss"
   ]
  },
  {
   "cell_type": "code",
   "execution_count": 70,
   "id": "9ca8938b-89ae-46d0-a400-1deed3e74f0e",
   "metadata": {},
   "outputs": [],
   "source": [
    "emb = C[X]\n",
    "h = torch.tanh(emb.view(-1, 6) @ W1 + b1)\n",
    "logits = h @ W2 + b2\n",
    "#counts = logits.exp()\n",
    "#prob = counts/counts.sum(1, keepdim = True)\n",
    "#loss = -prob[torch.arange(32), Y].log().mean()\n",
    "loss = F.cross_entropy(logits, Y) # exact same as above"
   ]
  },
  {
   "cell_type": "code",
   "execution_count": null,
   "id": "81109a37-55e8-467e-8810-9e00e9160863",
   "metadata": {},
   "outputs": [],
   "source": [
    "# --------- Here serious agiain"
   ]
  },
  {
   "cell_type": "code",
   "execution_count": 259,
   "id": "a96a57f9-9089-4144-a582-14a590138958",
   "metadata": {},
   "outputs": [
    {
     "data": {
      "text/plain": [
       "(torch.Size([182625, 3]), torch.Size([182625]))"
      ]
     },
     "execution_count": 259,
     "metadata": {},
     "output_type": "execute_result"
    }
   ],
   "source": [
    "Xtr.shape, Ytr.shape # dataset"
   ]
  },
  {
   "cell_type": "code",
   "execution_count": 260,
   "id": "6641eb76-dc35-4c52-b6e7-71793eaf49d3",
   "metadata": {},
   "outputs": [],
   "source": [
    "g = torch.Generator().manual_seed(2147483647) # for reproducibility\n",
    "C = torch.randn((27, 10), generator=g)\n",
    "W1 = torch.randn((30, 200), generator=g)\n",
    "b1 = torch.randn(200, generator=g)\n",
    "W2 = torch.randn((200, 27), generator=g)\n",
    "b2 = torch.randn(27, generator=g)\n",
    "parameters = [C, W1, b1, W2, b2]"
   ]
  },
  {
   "cell_type": "code",
   "execution_count": 261,
   "id": "1f674422-2eab-478c-816f-41af373e93df",
   "metadata": {},
   "outputs": [
    {
     "data": {
      "text/plain": [
       "11897"
      ]
     },
     "execution_count": 261,
     "metadata": {},
     "output_type": "execute_result"
    }
   ],
   "source": [
    "sum(p.nelement() for p in parameters)"
   ]
  },
  {
   "cell_type": "code",
   "execution_count": 262,
   "id": "84341545-1258-4c60-a7ea-71ba2b1ef0c5",
   "metadata": {},
   "outputs": [],
   "source": [
    "for p in parameters:\n",
    "    p.requires_grad = True"
   ]
  },
  {
   "cell_type": "code",
   "execution_count": 263,
   "id": "2a1bddc1-8c84-4397-a731-38f12f1b7ec4",
   "metadata": {
    "scrolled": true
   },
   "outputs": [],
   "source": [
    "lre = torch.linspace(-3, 0, 1000)\n",
    "lrs = 10**lre\n",
    "#plt.plot(lrs)"
   ]
  },
  {
   "cell_type": "code",
   "execution_count": 264,
   "id": "5b0eda3d-f066-4c9e-9eef-b4cc5f18f09a",
   "metadata": {},
   "outputs": [],
   "source": [
    "lri = []\n",
    "lossi = []\n",
    "stepi = []"
   ]
  },
  {
   "cell_type": "code",
   "execution_count": 265,
   "id": "f5722d36-96d8-4336-a00a-047bb175a855",
   "metadata": {},
   "outputs": [
    {
     "name": "stdout",
     "output_type": "stream",
     "text": [
      "2.2658700942993164\n"
     ]
    }
   ],
   "source": [
    "for i in range(200000):\n",
    "\n",
    "    # minibatch construct\n",
    "    ix = torch.randint(0, Xtr.shape[0], (32,))\n",
    "    \n",
    "    # forward pass \n",
    "    emb = C[Xtr[ix]]\n",
    "    h = torch.tanh(emb.view(-1, 30) @ W1 + b1)\n",
    "    logits = h @ W2 + b2\n",
    "    loss = F.cross_entropy(logits, Ytr[ix]) \n",
    "   # print(loss.item())\n",
    "    \n",
    "    # backward pass\n",
    "    for p in parameters:\n",
    "        p.grad = None\n",
    "    loss.backward()\n",
    "    \n",
    "    #update\n",
    "  #  lr = lrs[i]\n",
    "    lr = 0.1 if i<100000 else 0.01\n",
    "    for p in parameters:\n",
    "        p.data += -lr * p.grad\n",
    "\n",
    "    #lri.append(lre[i])\n",
    "    lossi.append(loss.log10().item())\n",
    "    stepi.append(i)\n",
    "\n",
    "print(loss.item())"
   ]
  },
  {
   "cell_type": "code",
   "execution_count": 266,
   "id": "2c1428de-d39a-4b2a-9b4c-d487bb7ee6a9",
   "metadata": {},
   "outputs": [
    {
     "data": {
      "text/plain": [
       "[<matplotlib.lines.Line2D at 0x14ffc7ad0>]"
      ]
     },
     "execution_count": 266,
     "metadata": {},
     "output_type": "execute_result"
    },
    {
     "data": {
      "image/png": "[encoded data removed]",
      "text/plain": [
       "<Figure size 640x480 with 1 Axes>"
      ]
     },
     "metadata": {},
     "output_type": "display_data"
    }
   ],
   "source": [
    "plt.plot(stepi,lossi)"
   ]
  },
  {
   "cell_type": "code",
   "execution_count": null,
   "id": "089879fa-11e1-43fe-a22d-d2de70ec0c3c",
   "metadata": {},
   "outputs": [],
   "source": []
  },
  {
   "cell_type": "code",
   "execution_count": 267,
   "id": "93b38667-a6a3-4436-b324-b4cf44fc5c80",
   "metadata": {},
   "outputs": [
    {
     "data": {
      "text/plain": [
       "tensor(2.1285, grad_fn=<NllLossBackward0>)"
      ]
     },
     "execution_count": 267,
     "metadata": {},
     "output_type": "execute_result"
    }
   ],
   "source": [
    "emb = C[Xtr]\n",
    "h = torch.tanh(emb.view(-1, 30) @ W1 + b1)\n",
    "logits = h @ W2 + b2\n",
    "loss = F.cross_entropy(logits, Ytr) # exact same as above\n",
    "loss"
   ]
  },
  {
   "cell_type": "code",
   "execution_count": 268,
   "id": "33ebf853-32ad-4727-82b6-2abea828d680",
   "metadata": {},
   "outputs": [
    {
     "data": {
      "text/plain": [
       "tensor(2.1693, grad_fn=<NllLossBackward0>)"
      ]
     },
     "execution_count": 268,
     "metadata": {},
     "output_type": "execute_result"
    }
   ],
   "source": [
    "emb = C[Xdev]\n",
    "h = torch.tanh(emb.view(-1, 30) @ W1 + b1)\n",
    "logits = h @ W2 + b2\n",
    "loss = F.cross_entropy(logits, Ydev) # exact same as above\n",
    "loss"
   ]
  },
  {
   "cell_type": "code",
   "execution_count": 227,
   "id": "d5b2d62f-e89b-4c01-b200-57d9e045f4e4",
   "metadata": {},
   "outputs": [
    {
     "data": {
      "image/png": "[encoded data removed]",
      "text/plain": [
       "<Figure size 800x800 with 1 Axes>"
      ]
     },
     "metadata": {},
     "output_type": "display_data"
    }
   ],
   "source": [
    "# visualize dimensions 0 and 1 of the embedding matrix C for all characters\n",
    "plt.figure(figsize=(8,8))\n",
    "plt.scatter(C[:,0].data, C[:,1].data, s=200)\n",
    "for i in range(C.shape[0]):\n",
    "    plt.text(C[i,0].item(), C[i,1].item(), itos[i], ha=\"center\", va=\"center\", color='white')\n",
    "plt.grid('minor')"
   ]
  },
  {
   "cell_type": "code",
   "execution_count": 269,
   "id": "57cb9aba-f81f-440c-92d9-ad81037bb542",
   "metadata": {},
   "outputs": [
    {
     "name": "stdout",
     "output_type": "stream",
     "text": [
      "carlan.\n",
      "amb.\n",
      "harlin.\n",
      "mili.\n",
      "taty.\n",
      "salaysa.\n",
      "jazonte.\n",
      "den.\n",
      "rhe.\n",
      "areen.\n",
      "nellara.\n",
      "chaiir.\n",
      "kaleigh.\n",
      "ham.\n",
      "join.\n",
      "quint.\n",
      "shoine.\n",
      "liven.\n",
      "corte.\n",
      "madiarynix.\n"
     ]
    }
   ],
   "source": [
    "# sample from the model\n",
    "g = torch.Generator().manual_seed(2147483647 + 10)\n",
    "\n",
    "for _ in range(20):\n",
    "    \n",
    "    out = []\n",
    "    context = [0] * block_size # initialize with all ...\n",
    "    while True:\n",
    "      emb = C[torch.tensor([context])] # (1,block_size,d)\n",
    "      h = torch.tanh(emb.view(1, -1) @ W1 + b1)\n",
    "      logits = h @ W2 + b2\n",
    "      probs = F.softmax(logits, dim=1)\n",
    "      ix = torch.multinomial(probs, num_samples=1, generator=g).item()\n",
    "      context = context[1:] + [ix]\n",
    "      out.append(ix)\n",
    "      if ix == 0:\n",
    "        break\n",
    "    \n",
    "    print(''.join(itos[i] for i in out))"
   ]
  },
  {
   "cell_type": "code",
   "execution_count": 271,
   "id": "470821e6-6867-43e0-a43a-94caf5ff335d",
   "metadata": {},
   "outputs": [],
   "source": [
    "A = C.view(-1,30)"
   ]
  },
  {
   "cell_type": "code",
   "execution_count": 273,
   "id": "bc5bbf77-077f-41ba-bc8a-dec27cf0c4e1",
   "metadata": {},
   "outputs": [
    {
     "data": {
      "text/plain": [
       "torch.Size([27, 10])"
      ]
     },
     "execution_count": 273,
     "metadata": {},
     "output_type": "execute_result"
    }
   ],
   "source": [
    "C.shape"
   ]
  },
  {
   "cell_type": "code",
   "execution_count": 275,
   "id": "be26f943-e4fe-4e6b-bdca-ba630a9d8530",
   "metadata": {},
   "outputs": [],
   "source": [
    "import pandas"
   ]
  },
  {
   "cell_type": "code",
   "execution_count": 278,
   "id": "f2ca57c3-18e7-44b3-9851-d674ea700b2b",
   "metadata": {},
   "outputs": [],
   "source": [
    "import torch\n",
    "import numpy as np\n",
    "import pandas as pd\n",
    "\n",
    "\n",
    "\n",
    "t_np = C.detach().numpy() #convert to Numpy array\n",
    "df = pd.DataFrame(t_np) #convert to a dataframe\n",
    "df.to_csv(\"testfile\",index=False) #save to file\n",
    "\n",
    "#Then, to reload:\n",
    "df = pd.read_csv(\"testfile\")"
   ]
  },
  {
   "cell_type": "code",
   "execution_count": 279,
   "id": "cecd3b0c-d8d2-4f91-8a9a-de116c03a914",
   "metadata": {},
   "outputs": [
    {
     "data": {
      "text/plain": [
       "tensor([[ 2.0408e+00,  6.7124e-01, -1.0497e-02, -1.0429e+00,  7.4435e-01,\n",
       "         -4.0441e-01, -2.2493e+00,  7.3794e-01,  4.0223e-01,  1.6177e+00],\n",
       "        [-1.4915e-01,  5.2183e-01, -9.9813e-01, -1.0688e+00,  1.9655e+00,\n",
       "          3.1705e+00,  1.9898e+00, -1.4007e+00,  6.2126e-01, -5.0289e-01],\n",
       "        [ 9.4603e-01, -1.7851e-01, -1.5063e+00,  4.0225e-01, -1.2063e-01,\n",
       "          1.4324e+00,  1.7713e+00, -1.1889e-01, -1.0007e+00,  1.5586e-01],\n",
       "        [-1.4719e-02,  8.5235e-02, -1.4974e-01,  4.3933e-01, -7.4937e-01,\n",
       "          4.3799e-01, -3.3440e-01,  4.8855e-01, -5.4835e-01, -1.4120e-01],\n",
       "        [-3.9001e-02, -2.0625e-02, -5.9044e-01,  2.4824e-01, -4.6598e-01,\n",
       "          8.8248e-01,  3.5392e-01,  3.1880e-01, -4.5097e-01, -3.3572e-01],\n",
       "        [-8.5425e-01,  6.2895e-01,  1.2741e-01, -6.5626e-01, -1.9352e-01,\n",
       "          5.0031e-01,  2.8414e-01, -4.4399e-01, -5.2042e-01, -4.1074e-01],\n",
       "        [ 4.9045e-01, -7.3222e-01, -2.2256e+00, -9.0176e-01,  8.2234e-01,\n",
       "         -6.3492e-01,  1.9106e+00,  2.6859e+00, -1.1833e+00,  2.9367e-01],\n",
       "        [ 2.2746e-01,  6.8010e-01, -8.3893e-01,  3.9005e-01, -2.7944e-01,\n",
       "          8.3412e-01,  4.3336e-02,  5.4988e-01, -8.0576e-01,  7.5278e-02],\n",
       "        [-4.6996e-01, -1.2775e-01,  5.9925e-02, -3.1433e-01, -2.7664e-01,\n",
       "          6.1582e-01,  3.7138e-01,  6.6293e-01, -2.6890e-01, -7.4050e-01],\n",
       "        [-5.1048e-01,  3.4650e-01, -2.3103e-01, -6.8739e-01,  1.0453e-01,\n",
       "          4.2353e-01, -2.0630e-01, -3.3460e-01, -8.4028e-01, -6.3592e-01],\n",
       "        [-1.0066e+00, -1.3679e+00, -1.9974e+00, -2.4548e-01, -1.4385e+00,\n",
       "          1.4550e-01, -1.0626e+00, -4.9922e-01, -1.3889e+00,  1.7951e+00],\n",
       "        [-6.5024e-01,  3.8791e-03, -6.9864e-02, -1.6398e+00, -5.8230e-01,\n",
       "          1.7979e-01, -1.2416e+00,  7.1546e-02,  4.1561e-01,  9.7837e-01],\n",
       "        [-3.2972e-01, -2.2836e-01, -5.8733e-01, -1.4392e+00, -8.5989e-01,\n",
       "          4.2749e-01, -5.8231e-01,  3.3314e-02,  1.4162e-01,  1.1017e+00],\n",
       "        [-9.2348e-01, -2.9463e-01, -1.6596e+00, -1.1075e+00, -6.4438e-02,\n",
       "          1.3704e-01,  1.2703e+00, -8.4169e-03,  4.5516e-01,  1.6334e+00],\n",
       "        [ 5.2880e-01, -5.1582e-01, -1.4555e-01, -3.4663e-01, -2.7340e-01,\n",
       "          6.7386e-01,  3.7259e-01,  5.5732e-02, -3.6313e-01, -7.0532e-01],\n",
       "        [-3.1377e-01,  8.7686e-01, -2.2436e-01, -6.8399e-01,  2.4632e-02,\n",
       "          2.9546e-01,  6.1595e-01, -4.4869e-01, -9.2453e-01, -5.4334e-01],\n",
       "        [-1.3398e-01,  4.1576e-01, -7.5222e-01,  7.4571e-01, -3.1104e-01,\n",
       "          3.7038e-01,  1.5407e-01,  2.5772e-01, -5.8095e-01, -3.7877e-02],\n",
       "        [ 1.2931e+00,  8.2969e-01,  6.9881e-01,  1.6465e-01, -1.1217e+00,\n",
       "          3.1409e-01, -7.6002e-01,  4.5499e-02,  1.5689e+00,  7.0763e-01],\n",
       "        [ 2.2369e-01,  8.6009e-02, -5.9352e-01, -2.5023e-01, -9.6514e-01,\n",
       "          7.5905e-01,  3.1879e-01,  4.3032e-01, -4.8778e-01, -4.5041e-01],\n",
       "        [ 9.7352e-02,  3.5764e-01,  4.0383e-02,  2.7326e-01, -2.3702e-01,\n",
       "          3.0664e-01,  2.4634e-01,  6.2385e-02, -1.5060e-01, -1.1549e-01],\n",
       "        [ 6.7745e-02,  2.1621e-01, -4.8851e-01,  3.9041e-01, -4.9051e-01,\n",
       "          4.4619e-01,  2.7033e-01, -1.5634e-01, -1.7652e-01, -3.5308e-01],\n",
       "        [-3.6030e-01,  9.4660e-01, -1.6287e-01, -4.5320e-01,  1.8568e-01,\n",
       "          4.4326e-01,  1.1289e-01, -1.0590e-01, -9.7811e-01, -4.3606e-01],\n",
       "        [ 9.3100e-02, -1.1840e-01, -7.8182e-01,  3.4413e-01, -8.8064e-01,\n",
       "          7.4550e-01,  5.9775e-01,  1.0096e+00, -3.9109e-01,  1.8638e-03],\n",
       "        [ 2.1732e-01,  5.5659e-01, -7.6755e-01, -5.6437e-02, -6.8268e-01,\n",
       "          4.5607e-01,  3.8069e-01,  2.7521e-01, -6.6512e-02, -8.1416e-01],\n",
       "        [ 2.4591e-01,  2.4668e-01, -1.8701e-02, -5.6387e-02, -6.3447e-01,\n",
       "          5.1430e-01,  3.6403e-01, -8.6895e-02, -1.3112e-01, -5.2455e-01],\n",
       "        [-4.7083e-01,  1.2299e-01, -2.0342e-01, -8.6919e-01,  9.4367e-02,\n",
       "         -2.1707e-01,  3.0517e-01, -8.2756e-02, -4.9814e-01, -4.5478e-01],\n",
       "        [-4.9507e-01, -1.1189e-01, -2.1460e-01, -1.4311e+00, -4.8475e-01,\n",
       "         -2.1913e-01, -7.1198e-01, -2.2156e-01,  2.8080e-01,  9.4814e-01]],\n",
       "       requires_grad=True)"
      ]
     },
     "execution_count": 279,
     "metadata": {},
     "output_type": "execute_result"
    }
   ],
   "source": [
    "C"
   ]
  },
  {
   "cell_type": "code",
   "execution_count": null,
   "id": "846d33ec-b806-40ec-b76a-c9367e7541eb",
   "metadata": {},
   "outputs": [],
   "source": []
  }
 ],
 "metadata": {
  "kernelspec": {
   "display_name": "venv_SB_NLP",
   "language": "python",
   "name": "venv_sb_nlp"
  },
  "language_info": {
   "codemirror_mode": {
    "name": "ipython",
    "version": 3
   },
   "file_extension": ".py",
   "mimetype": "text/x-python",
   "name": "python",
   "nbconvert_exporter": "python",
   "pygments_lexer": "ipython3",
   "version": "3.12.7"
  }
 },
 "nbformat": 4,
 "nbformat_minor": 5
}
