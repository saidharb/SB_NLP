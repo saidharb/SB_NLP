{
 "cells": [
  {
   "cell_type": "markdown",
   "id": "09a99c0a-238d-435b-860b-b9e2ac911b49",
   "metadata": {},
   "source": [
    "# Micrograd\n",
    "\n",
    "In this notebook the backpropagation algorithm is implemented and visualized from scratch in order to understand backpropagation on the deepest level."
   ]
  },
  {
   "cell_type": "code",
   "execution_count": 39,
   "id": "931703c2-0e6b-4da1-b43d-4b010a60fcfb",
   "metadata": {},
   "outputs": [],
   "source": [
    "import math\n",
    "import numpy as np\n",
    "import matplotlib.pyplot as plt\n",
    "%matplotlib inline"
   ]
  },
  {
   "cell_type": "code",
   "execution_count": 40,
   "id": "f7ae1b82-2fe6-40c5-bd1f-6cf101e205d1",
   "metadata": {},
   "outputs": [],
   "source": [
    "def f(x):\n",
    "    return 3*x**2 - 4*x +5"
   ]
  },
  {
   "cell_type": "code",
   "execution_count": 41,
   "id": "e95bf762-c917-411c-8d1a-54499225f016",
   "metadata": {},
   "outputs": [
    {
     "data": {
      "text/plain": [
       "[<matplotlib.lines.Line2D at 0x11d79c260>]"
      ]
     },
     "execution_count": 41,
     "metadata": {},
     "output_type": "execute_result"
    },
    {
     "data": {
      "image/png": "[encoded data removed]",
      "text/plain": [
       "<Figure size 640x480 with 1 Axes>"
      ]
     },
     "metadata": {},
     "output_type": "display_data"
    }
   ],
   "source": [
    "xs = np.arange(-5,5, 0.25)\n",
    "ys = f(xs)\n",
    "plt.plot(xs, ys)"
   ]
  },
  {
   "cell_type": "code",
   "execution_count": 42,
   "id": "1ef243c2-3bb3-4982-92cd-2c57f2563dc5",
   "metadata": {},
   "outputs": [
    {
     "data": {
      "text/plain": [
       "2.999378523327323e-06"
      ]
     },
     "execution_count": 42,
     "metadata": {},
     "output_type": "execute_result"
    }
   ],
   "source": [
    "h = 0.000001\n",
    "x = 2/3\n",
    "(f(x+h) - f(x))/h"
   ]
  },
  {
   "cell_type": "code",
   "execution_count": 43,
   "id": "09f80ce0-9b68-44c4-8571-a9fc6c83a4de",
   "metadata": {},
   "outputs": [
    {
     "name": "stdout",
     "output_type": "stream",
     "text": [
      "4.0\n"
     ]
    }
   ],
   "source": [
    "a = 2.0\n",
    "b = -3.0\n",
    "c = 10.0\n",
    "d= a*b + c\n",
    "print(d)"
   ]
  },
  {
   "cell_type": "code",
   "execution_count": 44,
   "id": "5f291071-af60-4154-af0f-d3dc0f673122",
   "metadata": {},
   "outputs": [
    {
     "name": "stdout",
     "output_type": "stream",
     "text": [
      "f1 4.0\n",
      "f2 4.0001\n",
      "slope 0.9999999999976694\n"
     ]
    }
   ],
   "source": [
    "h = 0.0001\n",
    "\n",
    "# inputs\n",
    "a = 2.0\n",
    "b = -3.0\n",
    "c = 10.0\n",
    "\n",
    "d1 = a*b + c\n",
    "c += h\n",
    "d2 = a*b + c\n",
    "\n",
    "print('f1', d1)\n",
    "print('f2', d2)\n",
    "print('slope', (d2-d1)/h)\n",
    "import inspect"
   ]
  },
  {
   "cell_type": "markdown",
   "id": "fceefe77-dbaa-4126-87c0-19ef85c8cc5b",
   "metadata": {},
   "source": [
    "#### Parameter Class\n",
    "\n",
    "Backpropagation is an algorithm that can be used to optimize a set of parameters $\\mathbf{p}$ to minimize a loss function $L$. The loss is calculated by infering data samples and comparing the output with the respective targets. In order to minimize the loss function, stochastic gradient descent is applied, i.e. the parameters are updated based on their derivative with respect to the loss. \n",
    "\n",
    "In the following cell, the class of a parameter is presented. A parameter can be anything - a weight in a weights matrix, a bias in a bias vector or a any parameter of a mathematical system. The important part is, that a parameter is not only represented by a numerical value, but also by other attributes, which are defined in the ```__init__()``` method:\n",
    "- ```data``` - numerical value of $p$\n",
    "- ```grad``` - numerical value of the gradient of the loss with respect to this parameter, i.e. $\\frac{dL}{dp}$\n",
    "- ```_backward``` - function which calculates the gradient of each operand in a binary operation like addition, multiplication, ...\n",
    "- ```_prev``` - stores the two parameters which were used to create the current parameter\n",
    "- ```_op``` - stores the operation which was used to create the current parameter\n",
    "- ```label``` - a label for each parameter for visualization purposes"
   ]
  },
  {
   "cell_type": "code",
   "execution_count": 45,
   "id": "2ed6ac78-ef3f-49a1-8ce1-19e25d167654",
   "metadata": {},
   "outputs": [],
   "source": [
    "class Value:\n",
    "\n",
    "    def __init__(self, data, _children = (), _op = '', label = ''):\n",
    "        self.data = data\n",
    "        self.grad = 0.0\n",
    "        self._backward = lambda: None\n",
    "        self._prev = set(_children)\n",
    "        self._op = _op\n",
    "        self.label = label"
   ]
  },
  {
   "cell_type": "markdown",
   "id": "8ba7369d-f050-4d8e-bbdb-c33189d3cfe1",
   "metadata": {},
   "source": [
    "#### Representation\n",
    "\n",
    "First the python internal method of representing a class is overwritten. This way one can easily see the numerical value associated with this parameter"
   ]
  },
  {
   "cell_type": "code",
   "execution_count": 46,
   "id": "3f30f6bd-e433-41dd-88fc-0def75f4f5e9",
   "metadata": {},
   "outputs": [],
   "source": [
    "def __repr__(self):\n",
    "    return f\"Value(data={self.data})\"\n",
    "\n",
    "Value.__repr__ = __repr__"
   ]
  },
  {
   "cell_type": "markdown",
   "id": "0c39e5c1-c16a-4319-86bf-06d89e7fb4a5",
   "metadata": {},
   "source": [
    "#### Addition\n",
    "\n",
    "Let's say we have $c=a+b$, and the parameter we are inspecting is $a$. First we have to check the other summand $b$. If it also is a parameter, then everything is fine, however if it is a constant value, we need to convert it to a parameter as well, in order for every function to work properly. Keep in mind that if we transform the constant into a parameter with ```other = Value(other)```, the gradient of ```other``` is set to zero and only the ```data``` attribute is initialized.\n",
    "\n",
    "The result of an addition is trivial: $c=a+b$, therefore ```out``` is just a new parameter, where the numerical values of each summand are added. The children ```self``` and ```other``` are added to the set and the operation ```+``` is specified.\n",
    "\n",
    "For the ```_backward()``` method, a small explanation is provided. If we have a function $L(x,y)$ and we want the derivative of this function with respect to a parameter $x$ which is in turn part of a function $y(x)$, the **chain-rule** can be applied: $\\frac{dL}{dx} = \\frac{dL}{dy} * \\frac{dy}{dx}$. Because we have a backward pass and $\\frac{dL}{dL} = 1$, we always know the gradient of the result of the operation. I.e. if $c=a+b$ the gradient $\\frac{dL}{dc}$ is already known. Therefore in order to get $\\frac{dL}{dx}$, we only need to calculate $\\frac{dy}{dx}$ and multipy with the gradient of the result.\n",
    "\n",
    "Back to the $c=a+b$ example. First $\\frac{dc}{da}= 1.0$  and $\\frac{dc}{db}= 1.0$. This means that in an addition, the gradient of the result is just **propagated backwards**. Note that the gradients are added using the ```+=``` operator. This is because when $L(x,y,z)$ and $y=y(x)$ and $z=z(x)$, which means that $x$ influences $y$ and $z$, the gradient $\\frac{dL}{dx}$ is the sum of its influences, i.e. the sum of the gradients $\\frac{dL}{dy}*\\frac{dy}{dx}$ and $\\frac{dL}{dz}*\\frac{dz}{dx}$. Just imagine $c=a(x)+b(x) = 2x + 3x$, then $\\frac{dc}{dx} = \\frac{dc}{da}*\\frac{da}{dx} + \\frac{dc}{db}*\\frac{db}{dx} = 1.0 * 2.0 + 1.0 * 3.0$.  You can read more if you google \"multivariate chain rule\". Finally the ```_backward()``` method is assigned to the output value, which can now calcualte the gradients of its childred."
   ]
  },
  {
   "cell_type": "code",
   "execution_count": 47,
   "id": "b8ffc3bb-0c4f-4e94-9166-efaab5cdc66b",
   "metadata": {},
   "outputs": [],
   "source": [
    "def __add__(self, other):\n",
    "    print(f\"Function {inspect.currentframe().f_code.co_name} invoked\")\n",
    "    other = other if isinstance(other, Value) else Value(other)\n",
    "    out = Value(self.data + other.data, (self, other), '+')\n",
    "    def _backward():\n",
    "        self.grad += 1.0 * out.grad \n",
    "        other.grad += 1.0 * out.grad\n",
    "    out._backward = _backward\n",
    "    return out\n",
    "\n",
    "Value.__add__ = __add__"
   ]
  },
  {
   "cell_type": "markdown",
   "id": "4d6a4bda-7e3e-4c6d-9bdc-7ca466046901",
   "metadata": {},
   "source": [
    "There is an extra case which we have to consider in addition. When Python evaluates an addition ```c = a + b``` the serialized commands look something like this: ```c = a.__add__(b)```. If a is from the class Value and ```b``` is a constant, everything is fine, as we have checked before. But what if the operation is $c= b + a$? In our head we can calcuate this straightforward, but Python would call ```c = b.__add__(a)```. If ```b``` is a constant, it does not have the custom ```__add__()``` method implemented and an error will appear. Therefore we need to implement the ```__radd__()``` method, which is used by Python in the case that the left hand side does not have the ```__add__()``` method implemented. Python then checks if the right hand side of the addition implemented the ```__radd__()``` method. This fallback method changes the order of the addition and we can add both parameters like before. In particular, if $c=b+a$ and $a$ is a parameter and $b$ not, python first checks if $b$ has the addition method implemented and if not, check if $a$ has the fallback method implemented. The fallback method will be called on $a$, and if ```self + other``` is returned, the fallback additon is now $c = a + b$, because a is self and b is other."
   ]
  },
  {
   "cell_type": "code",
   "execution_count": 56,
   "id": "acd9903c-ac6c-4d47-8308-1adaa67a51f1",
   "metadata": {},
   "outputs": [],
   "source": [
    "def __radd__(self, other): # other + self\n",
    "    print(f\"Function {inspect.currentframe().f_code.co_name} invoked\")\n",
    "    return self + other\n",
    "\n",
    "Value.__radd__ = __radd__"
   ]
  },
  {
   "cell_type": "markdown",
   "id": "b5e19c03-5052-4d5e-806b-d0ce90aa2268",
   "metadata": {},
   "source": [
    "Here are both cases with the sequence of functions invoked displayed:\n",
    "\n",
    "Normal case:\n",
    "![Alt text](images/img2.png \"Optional title\")\n",
    "\n",
    "Reversed case:\n",
    "![Alt text](images/img1.png \"Optional title\")\n",
    "\n",
    "\n"
   ]
  },
  {
   "cell_type": "code",
   "execution_count": 57,
   "id": "2dbdd657-2e98-46ca-ad0d-0831a0232aa4",
   "metadata": {},
   "outputs": [
    {
     "name": "stdout",
     "output_type": "stream",
     "text": [
      "Function __add__ invoked\n",
      "c = Value(data=5.0)\n"
     ]
    }
   ],
   "source": [
    "a = Value(2.0)\n",
    "b = 3.0\n",
    "c = a + b\n",
    "print(\"c =\", c)"
   ]
  },
  {
   "cell_type": "code",
   "execution_count": 1,
   "id": "ff33df65-f0c6-4bf7-a0c3-92be202d9d95",
   "metadata": {},
   "outputs": [],
   "source": [
    "\n",
    "\n",
    "\n",
    "\n",
    "\n",
    "\n",
    "\n",
    "\n",
    "    def __rmul__(self, other):  # for the case constant*Value and not Value*constant\n",
    "#        print(f\"Function {inspect.currentframe().f_code.co_name} invoked\")\n",
    "        return self * other\n",
    "\n",
    "    def __mul__(self, other):\n",
    "#        print(f\"Function {inspect.currentframe().f_code.co_name} invoked\")\n",
    "        other = other if isinstance(other, Value) else Value(other)\n",
    "        out = Value(self.data * other.data, (self, other), '*')\n",
    "        def _backward():\n",
    "            self.grad += other.data * out.grad\n",
    "            other.grad += self.data * out.grad\n",
    "        out._backward = _backward\n",
    "        return out\n",
    "\n",
    "    def tanh(self):\n",
    "#        print(f\"Function {inspect.currentframe().f_code.co_name} invoked\")\n",
    "        n = self.data\n",
    "        t = (math.exp(2*n) -1)/(math.exp(2*n) + 1)\n",
    "        out = Value(t, (self, ), 'tanh')\n",
    "        def _backward():\n",
    "            self.grad += (1 - t**2) * out.grad\n",
    "        out._backward = _backward\n",
    "        return out\n",
    "\n",
    "    def __truediv__(self, other):\n",
    "#        print(f\"Function {inspect.currentframe().f_code.co_name} invoked\")\n",
    "        return self * other**-1\n",
    "\n",
    "    def __neg__(self):\n",
    "#        print(f\"Function {inspect.currentframe().f_code.co_name} invoked\")\n",
    "        return self * -1\n",
    "\n",
    "    def __sub__(self, other):\n",
    "#        print(f\"Function {inspect.currentframe().f_code.co_name} invoked\")\n",
    "        return self + (-other)\n",
    "        \n",
    "    def __pow__(self, other):\n",
    "        assert isinstance(other, (int, float)), \"only supporting int/float powers for now\"\n",
    "#        print(f\"Function {inspect.currentframe().f_code.co_name} invoked\")\n",
    "        out = Value(self.data**other, (self, ), f'**{other}')\n",
    "\n",
    "        def _backward():\n",
    "            self.grad += other * self.data ** (other - 1) * out.grad\n",
    "\n",
    "        out._backward = _backward\n",
    "        return out\n",
    "\n",
    "    def exp(self):\n",
    "#        print(f\"Function {inspect.currentframe().f_code.co_name} invoked\")\n",
    "        x = self.data\n",
    "        out = Value(math.exp(x), (self, ), 'exp')\n",
    "\n",
    "        def _backward():\n",
    "            self.grad += out.data * out.grad\n",
    "        out._backward = _backward\n",
    "        return out\n",
    "\n",
    "    def backward(self):\n",
    "\n",
    "        topo = []\n",
    "        visited = set()\n",
    "        # Builds a topological graph, where all the arrows go in one direction\n",
    "        # Therefore a node always has all of its dependencies already calculated\n",
    "        def build_topo(v):\n",
    "          if v not in visited:\n",
    "            visited.add(v)\n",
    "            for child in v._prev:\n",
    "              build_topo(child)\n",
    "            topo.append(v)\n",
    "        build_topo(self)\n",
    "\n",
    "        self.grad = 1.0\n",
    "        for node in reversed(topo):\n",
    "            node._backward()\n",
    "\n",
    "a = Value(2.0, label = 'a')\n",
    "b = Value(-3.0, label = 'b')\n",
    "c = Value(10.0, label = 'c')\n",
    "e = a * b\n",
    "e.label = 'e'\n",
    "d = e + c\n",
    "d.label = 'd'\n",
    "f = Value(-2.0, label = 'f')\n",
    "L = d * f\n",
    "L.label = 'L'"
   ]
  },
  {
   "cell_type": "code",
   "execution_count": 8,
   "id": "6df82200-9a17-486c-a113-bce12e11269d",
   "metadata": {},
   "outputs": [
    {
     "data": {
      "text/plain": [
       "Value(data=-2.0)"
      ]
     },
     "execution_count": 8,
     "metadata": {},
     "output_type": "execute_result"
    }
   ],
   "source": [
    "a = Value(2.0)\n",
    "b = Value(4.0)\n",
    "a - b"
   ]
  },
  {
   "cell_type": "code",
   "execution_count": 11,
   "id": "4c2bf6f4-4b13-42e0-93b9-9e9892019414",
   "metadata": {},
   "outputs": [
    {
     "data": {
      "text/plain": [
       "'*'"
      ]
     },
     "execution_count": 11,
     "metadata": {},
     "output_type": "execute_result"
    }
   ],
   "source": [
    "L._op"
   ]
  },
  {
   "cell_type": "code",
   "execution_count": 24,
   "id": "c7fb5d26-97ad-4bd4-b7b7-5d9c99c4efd4",
   "metadata": {},
   "outputs": [],
   "source": [
    "from graphviz import Digraph\n",
    "\n",
    "def trace(root):\n",
    "  # builds a set of all nodes and edges in a graph\n",
    "  nodes, edges = set(), set()\n",
    "  def build(v):\n",
    "    if v not in nodes:\n",
    "      nodes.add(v)\n",
    "      for child in v._prev:\n",
    "        edges.add((child, v))\n",
    "        build(child)\n",
    "  build(root)\n",
    "  return nodes, edges\n",
    "\n",
    "def draw_dot(root):\n",
    "  dot = Digraph(format='svg', graph_attr={'rankdir': 'LR'}) # LR = left to right\n",
    "  \n",
    "  nodes, edges = trace(root)\n",
    "  for n in nodes:\n",
    "    uid = str(id(n))\n",
    "    # for any value in the graph, create a rectangular ('record') node for it\n",
    "    dot.node(name = uid, label = \"{ %s | data %.4f | grad %.4f }\" % (n.label, n.data, n.grad), shape='record')\n",
    "    if n._op:\n",
    "      # if this value is a result of some operation, create an op node for it\n",
    "      dot.node(name = uid + n._op, label = n._op)\n",
    "      # and connect this node to it\n",
    "      dot.edge(uid + n._op, uid)\n",
    "\n",
    "  for n1, n2 in edges:\n",
    "    # connect n1 to the op node of n2\n",
    "    dot.edge(str(id(n1)), str(id(n2)) + n2._op)\n",
    "\n",
    "  return dot"
   ]
  },
  {
   "cell_type": "code",
   "execution_count": 25,
   "id": "d99392e7-065d-4622-ba6c-fbe128b5e573",
   "metadata": {},
   "outputs": [
    {
     "data": {
      "image/svg+xml": [
       "<?xml version=\"1.0\" encoding=\"UTF-8\" standalone=\"no\"?>\n",
       "<!DOCTYPE svg PUBLIC \"-//W3C//DTD SVG 1.1//EN\"\n",
       " \"http://www.w3.org/Graphics/SVG/1.1/DTD/svg11.dtd\">\n",
       "<!-- Generated by graphviz version 12.1.2 (20240928.0832)\n",
       " -->\n",
       "<!-- Pages: 1 -->\n",
       "<svg width=\"1140pt\" height=\"156pt\"\n",
       " viewBox=\"0.00 0.00 1139.75 156.00\" xmlns=\"http://www.w3.org/2000/svg\" xmlns:xlink=\"http://www.w3.org/1999/xlink\">\n",
       "<g id=\"graph0\" class=\"graph\" transform=\"scale(1 1) rotate(0) translate(4 152)\">\n",
       "<polygon fill=\"white\" stroke=\"none\" points=\"-4,4 -4,-152 1135.75,-152 1135.75,4 -4,4\"/>\n",
       "<!-- 4728531392 -->\n",
       "<g id=\"node1\" class=\"node\">\n",
       "<title>4728531392</title>\n",
       "<polygon fill=\"none\" stroke=\"black\" points=\"2.62,-111.5 2.62,-147.5 185.62,-147.5 185.62,-111.5 2.62,-111.5\"/>\n",
       "<text text-anchor=\"middle\" x=\"13.62\" y=\"-124.7\" font-family=\"Times,serif\" font-size=\"14.00\">a</text>\n",
       "<polyline fill=\"none\" stroke=\"black\" points=\"24.62,-112 24.62,-147.5\"/>\n",
       "<text text-anchor=\"middle\" x=\"64.5\" y=\"-124.7\" font-family=\"Times,serif\" font-size=\"14.00\">data 2.0000</text>\n",
       "<polyline fill=\"none\" stroke=\"black\" points=\"104.38,-112 104.38,-147.5\"/>\n",
       "<text text-anchor=\"middle\" x=\"145\" y=\"-124.7\" font-family=\"Times,serif\" font-size=\"14.00\">grad 0.0000</text>\n",
       "</g>\n",
       "<!-- 4511566448* -->\n",
       "<g id=\"node4\" class=\"node\">\n",
       "<title>4511566448*</title>\n",
       "<ellipse fill=\"none\" stroke=\"black\" cx=\"251.25\" cy=\"-101.5\" rx=\"27\" ry=\"18\"/>\n",
       "<text text-anchor=\"middle\" x=\"251.25\" y=\"-96.45\" font-family=\"Times,serif\" font-size=\"14.00\">*</text>\n",
       "</g>\n",
       "<!-- 4728531392&#45;&gt;4511566448* -->\n",
       "<g id=\"edge4\" class=\"edge\">\n",
       "<title>4728531392&#45;&gt;4511566448*</title>\n",
       "<path fill=\"none\" stroke=\"black\" d=\"M185.81,-113.13C195.66,-111.35 205.21,-109.63 213.82,-108.08\"/>\n",
       "<polygon fill=\"black\" stroke=\"black\" points=\"214.19,-111.57 223.41,-106.34 212.95,-104.68 214.19,-111.57\"/>\n",
       "</g>\n",
       "<!-- 4725078112 -->\n",
       "<g id=\"node2\" class=\"node\">\n",
       "<title>4725078112</title>\n",
       "<polygon fill=\"none\" stroke=\"black\" points=\"314.25,-28.5 314.25,-64.5 504,-64.5 504,-28.5 314.25,-28.5\"/>\n",
       "<text text-anchor=\"middle\" x=\"325.25\" y=\"-41.7\" font-family=\"Times,serif\" font-size=\"14.00\">c</text>\n",
       "<polyline fill=\"none\" stroke=\"black\" points=\"336.25,-29 336.25,-64.5\"/>\n",
       "<text text-anchor=\"middle\" x=\"379.5\" y=\"-41.7\" font-family=\"Times,serif\" font-size=\"14.00\">data 10.0000</text>\n",
       "<polyline fill=\"none\" stroke=\"black\" points=\"422.75,-29 422.75,-64.5\"/>\n",
       "<text text-anchor=\"middle\" x=\"463.38\" y=\"-41.7\" font-family=\"Times,serif\" font-size=\"14.00\">grad 0.0000</text>\n",
       "</g>\n",
       "<!-- 4511566160+ -->\n",
       "<g id=\"node7\" class=\"node\">\n",
       "<title>4511566160+</title>\n",
       "<ellipse fill=\"none\" stroke=\"black\" cx=\"567\" cy=\"-73.5\" rx=\"27\" ry=\"18\"/>\n",
       "<text text-anchor=\"middle\" x=\"567\" y=\"-68.45\" font-family=\"Times,serif\" font-size=\"14.00\">+</text>\n",
       "</g>\n",
       "<!-- 4725078112&#45;&gt;4511566160+ -->\n",
       "<g id=\"edge6\" class=\"edge\">\n",
       "<title>4725078112&#45;&gt;4511566160+</title>\n",
       "<path fill=\"none\" stroke=\"black\" d=\"M504.39,-62.83C513.16,-64.35 521.65,-65.82 529.37,-67.15\"/>\n",
       "<polygon fill=\"black\" stroke=\"black\" points=\"528.5,-70.56 538.95,-68.81 529.69,-63.66 528.5,-70.56\"/>\n",
       "</g>\n",
       "<!-- 4511566448 -->\n",
       "<g id=\"node3\" class=\"node\">\n",
       "<title>4511566448</title>\n",
       "<polygon fill=\"none\" stroke=\"black\" points=\"315.38,-83.5 315.38,-119.5 502.88,-119.5 502.88,-83.5 315.38,-83.5\"/>\n",
       "<text text-anchor=\"middle\" x=\"326.38\" y=\"-96.7\" font-family=\"Times,serif\" font-size=\"14.00\">e</text>\n",
       "<polyline fill=\"none\" stroke=\"black\" points=\"337.38,-84 337.38,-119.5\"/>\n",
       "<text text-anchor=\"middle\" x=\"379.5\" y=\"-96.7\" font-family=\"Times,serif\" font-size=\"14.00\">data &#45;6.0000</text>\n",
       "<polyline fill=\"none\" stroke=\"black\" points=\"421.62,-84 421.62,-119.5\"/>\n",
       "<text text-anchor=\"middle\" x=\"462.25\" y=\"-96.7\" font-family=\"Times,serif\" font-size=\"14.00\">grad 0.0000</text>\n",
       "</g>\n",
       "<!-- 4511566448&#45;&gt;4511566160+ -->\n",
       "<g id=\"edge5\" class=\"edge\">\n",
       "<title>4511566448&#45;&gt;4511566160+</title>\n",
       "<path fill=\"none\" stroke=\"black\" d=\"M503.05,-84.81C512.25,-83.16 521.16,-81.56 529.24,-80.1\"/>\n",
       "<polygon fill=\"black\" stroke=\"black\" points=\"529.71,-83.58 538.93,-78.36 528.47,-76.69 529.71,-83.58\"/>\n",
       "</g>\n",
       "<!-- 4511566448*&#45;&gt;4511566448 -->\n",
       "<g id=\"edge1\" class=\"edge\">\n",
       "<title>4511566448*&#45;&gt;4511566448</title>\n",
       "<path fill=\"none\" stroke=\"black\" d=\"M278.69,-101.5C286.1,-101.5 294.64,-101.5 303.71,-101.5\"/>\n",
       "<polygon fill=\"black\" stroke=\"black\" points=\"303.51,-105 313.51,-101.5 303.51,-98 303.51,-105\"/>\n",
       "</g>\n",
       "<!-- 4720286496 -->\n",
       "<g id=\"node5\" class=\"node\">\n",
       "<title>4720286496</title>\n",
       "<polygon fill=\"none\" stroke=\"black\" points=\"0,-56.5 0,-92.5 188.25,-92.5 188.25,-56.5 0,-56.5\"/>\n",
       "<text text-anchor=\"middle\" x=\"11.38\" y=\"-69.7\" font-family=\"Times,serif\" font-size=\"14.00\">b</text>\n",
       "<polyline fill=\"none\" stroke=\"black\" points=\"22.75,-57 22.75,-92.5\"/>\n",
       "<text text-anchor=\"middle\" x=\"64.88\" y=\"-69.7\" font-family=\"Times,serif\" font-size=\"14.00\">data &#45;3.0000</text>\n",
       "<polyline fill=\"none\" stroke=\"black\" points=\"107,-57 107,-92.5\"/>\n",
       "<text text-anchor=\"middle\" x=\"147.62\" y=\"-69.7\" font-family=\"Times,serif\" font-size=\"14.00\">grad 0.0000</text>\n",
       "</g>\n",
       "<!-- 4720286496&#45;&gt;4511566448* -->\n",
       "<g id=\"edge8\" class=\"edge\">\n",
       "<title>4720286496&#45;&gt;4511566448*</title>\n",
       "<path fill=\"none\" stroke=\"black\" d=\"M188.49,-90.75C197.27,-92.28 205.77,-93.76 213.51,-95.1\"/>\n",
       "<polygon fill=\"black\" stroke=\"black\" points=\"212.66,-98.51 223.11,-96.78 213.86,-91.61 212.66,-98.51\"/>\n",
       "</g>\n",
       "<!-- 4511566160 -->\n",
       "<g id=\"node6\" class=\"node\">\n",
       "<title>4511566160</title>\n",
       "<polygon fill=\"none\" stroke=\"black\" points=\"631.12,-55.5 631.12,-91.5 814.88,-91.5 814.88,-55.5 631.12,-55.5\"/>\n",
       "<text text-anchor=\"middle\" x=\"642.5\" y=\"-68.7\" font-family=\"Times,serif\" font-size=\"14.00\">d</text>\n",
       "<polyline fill=\"none\" stroke=\"black\" points=\"653.88,-56 653.88,-91.5\"/>\n",
       "<text text-anchor=\"middle\" x=\"693.75\" y=\"-68.7\" font-family=\"Times,serif\" font-size=\"14.00\">data 4.0000</text>\n",
       "<polyline fill=\"none\" stroke=\"black\" points=\"733.62,-56 733.62,-91.5\"/>\n",
       "<text text-anchor=\"middle\" x=\"774.25\" y=\"-68.7\" font-family=\"Times,serif\" font-size=\"14.00\">grad 0.0000</text>\n",
       "</g>\n",
       "<!-- 4511572448* -->\n",
       "<g id=\"node10\" class=\"node\">\n",
       "<title>4511572448*</title>\n",
       "<ellipse fill=\"none\" stroke=\"black\" cx=\"879\" cy=\"-45.5\" rx=\"27\" ry=\"18\"/>\n",
       "<text text-anchor=\"middle\" x=\"879\" y=\"-40.45\" font-family=\"Times,serif\" font-size=\"14.00\">*</text>\n",
       "</g>\n",
       "<!-- 4511566160&#45;&gt;4511572448* -->\n",
       "<g id=\"edge7\" class=\"edge\">\n",
       "<title>4511566160&#45;&gt;4511572448*</title>\n",
       "<path fill=\"none\" stroke=\"black\" d=\"M815.36,-56.89C824.5,-55.23 833.36,-53.62 841.4,-52.15\"/>\n",
       "<polygon fill=\"black\" stroke=\"black\" points=\"841.83,-55.63 851.04,-50.4 840.57,-48.75 841.83,-55.63\"/>\n",
       "</g>\n",
       "<!-- 4511566160+&#45;&gt;4511566160 -->\n",
       "<g id=\"edge2\" class=\"edge\">\n",
       "<title>4511566160+&#45;&gt;4511566160</title>\n",
       "<path fill=\"none\" stroke=\"black\" d=\"M594.47,-73.5C601.87,-73.5 610.38,-73.5 619.43,-73.5\"/>\n",
       "<polygon fill=\"black\" stroke=\"black\" points=\"619.17,-77 629.17,-73.5 619.17,-70 619.17,-77\"/>\n",
       "</g>\n",
       "<!-- 4511568320 -->\n",
       "<g id=\"node8\" class=\"node\">\n",
       "<title>4511568320</title>\n",
       "<polygon fill=\"none\" stroke=\"black\" points=\"630,-0.5 630,-36.5 816,-36.5 816,-0.5 630,-0.5\"/>\n",
       "<text text-anchor=\"middle\" x=\"640.25\" y=\"-13.7\" font-family=\"Times,serif\" font-size=\"14.00\">f</text>\n",
       "<polyline fill=\"none\" stroke=\"black\" points=\"650.5,-1 650.5,-36.5\"/>\n",
       "<text text-anchor=\"middle\" x=\"692.62\" y=\"-13.7\" font-family=\"Times,serif\" font-size=\"14.00\">data &#45;2.0000</text>\n",
       "<polyline fill=\"none\" stroke=\"black\" points=\"734.75,-1 734.75,-36.5\"/>\n",
       "<text text-anchor=\"middle\" x=\"775.38\" y=\"-13.7\" font-family=\"Times,serif\" font-size=\"14.00\">grad 0.0000</text>\n",
       "</g>\n",
       "<!-- 4511568320&#45;&gt;4511572448* -->\n",
       "<g id=\"edge9\" class=\"edge\">\n",
       "<title>4511568320&#45;&gt;4511572448*</title>\n",
       "<path fill=\"none\" stroke=\"black\" d=\"M816.25,-34.67C825.01,-36.21 833.5,-37.7 841.24,-39.05\"/>\n",
       "<polygon fill=\"black\" stroke=\"black\" points=\"840.39,-42.46 850.84,-40.74 841.6,-35.56 840.39,-42.46\"/>\n",
       "</g>\n",
       "<!-- 4511572448 -->\n",
       "<g id=\"node9\" class=\"node\">\n",
       "<title>4511572448</title>\n",
       "<polygon fill=\"none\" stroke=\"black\" points=\"942,-27.5 942,-63.5 1131.75,-63.5 1131.75,-27.5 942,-27.5\"/>\n",
       "<text text-anchor=\"middle\" x=\"954.12\" y=\"-40.7\" font-family=\"Times,serif\" font-size=\"14.00\">L</text>\n",
       "<polyline fill=\"none\" stroke=\"black\" points=\"966.25,-28 966.25,-63.5\"/>\n",
       "<text text-anchor=\"middle\" x=\"1008.38\" y=\"-40.7\" font-family=\"Times,serif\" font-size=\"14.00\">data &#45;8.0000</text>\n",
       "<polyline fill=\"none\" stroke=\"black\" points=\"1050.5,-28 1050.5,-63.5\"/>\n",
       "<text text-anchor=\"middle\" x=\"1091.12\" y=\"-40.7\" font-family=\"Times,serif\" font-size=\"14.00\">grad 0.0000</text>\n",
       "</g>\n",
       "<!-- 4511572448*&#45;&gt;4511572448 -->\n",
       "<g id=\"edge3\" class=\"edge\">\n",
       "<title>4511572448*&#45;&gt;4511572448</title>\n",
       "<path fill=\"none\" stroke=\"black\" d=\"M906.44,-45.5C913.59,-45.5 921.78,-45.5 930.49,-45.5\"/>\n",
       "<polygon fill=\"black\" stroke=\"black\" points=\"930.26,-49 940.26,-45.5 930.26,-42 930.26,-49\"/>\n",
       "</g>\n",
       "</g>\n",
       "</svg>\n"
      ],
      "text/plain": [
       "<graphviz.graphs.Digraph at 0x11a352330>"
      ]
     },
     "execution_count": 25,
     "metadata": {},
     "output_type": "execute_result"
    }
   ],
   "source": [
    "draw_dot(L)"
   ]
  },
  {
   "cell_type": "code",
   "execution_count": 119,
   "id": "65df1514-9976-4aa5-ba1d-bdd5270c71e3",
   "metadata": {},
   "outputs": [
    {
     "name": "stdout",
     "output_type": "stream",
     "text": [
      "0.0\n"
     ]
    }
   ],
   "source": [
    "def lol():\n",
    "\n",
    "    h =  0.001\n",
    "    \n",
    "    a = Value(2.0, label = 'a')\n",
    "    b = Value(-3.0, label = 'b')\n",
    "    c = Value(10.0, label = 'c')\n",
    "    e = a * b\n",
    "    e.label = 'e'\n",
    "    d = e + c\n",
    "    d.label = 'd'\n",
    "    f = Value(-2.0, label = 'f')\n",
    "    L = d * f\n",
    "    L.label = 'L'\n",
    "    L1 = L.data\n",
    "\n",
    "    a = Value(2.0, label = 'a')\n",
    "    b = Value(-3.0, label = 'b')\n",
    "    c = Value(10.0, label = 'c')\n",
    "    e = a * b\n",
    "    e.label = 'e'\n",
    "    d = e + c \n",
    "    d.label = 'd'\n",
    "    f = Value(-2.0, label = 'f')\n",
    "    L = d * f\n",
    "    L.label = 'L'\n",
    "    L2 = L.data\n",
    "\n",
    "    print((L2-L1)/h)\n",
    "\n",
    "lol()"
   ]
  },
  {
   "cell_type": "code",
   "execution_count": 120,
   "id": "d6dea0bc-a2d6-4a7e-bbb9-f610e5f3c208",
   "metadata": {},
   "outputs": [],
   "source": [
    "L.grad = 1.0"
   ]
  },
  {
   "cell_type": "markdown",
   "id": "663dd9f2-32d1-4e34-b60d-0a1333afa030",
   "metadata": {},
   "source": [
    "L = d * f \n",
    "\n",
    "= (e + c) * f\n",
    "\n",
    "= ((a * b) + c)) * f\n",
    "\n",
    "dL/dc = f"
   ]
  },
  {
   "cell_type": "code",
   "execution_count": 121,
   "id": "2a83007c-56e9-497e-b23c-ac2e289f6e49",
   "metadata": {},
   "outputs": [],
   "source": [
    "# Just remember derivatives\n",
    "f.grad = 4.0\n",
    "d.grad = -2.0\n",
    "c.grad = -2.0 * 1\n",
    "e.grad = -2.0 * 1\n",
    "a.grad = -2.0 * -3.0\n",
    "b.grad = -2.0 * 2.0"
   ]
  },
  {
   "cell_type": "code",
   "execution_count": null,
   "id": "0bd04f55-0ef7-49de-abd0-23d197120e2b",
   "metadata": {},
   "outputs": [],
   "source": [
    " "
   ]
  },
  {
   "cell_type": "code",
   "execution_count": 122,
   "id": "49b1eb9b-7c4e-473d-aeff-406940e02e56",
   "metadata": {},
   "outputs": [
    {
     "name": "stdout",
     "output_type": "stream",
     "text": [
      "Value(data=0.7071067811865476)\n",
      "Value(data=0.8813735870195432)\n",
      "Value(data=6.881373587019543)\n",
      "Value(data=-6.0)\n",
      "Value(data=-6.0)\n",
      "Value(data=-3.0)\n",
      "Value(data=2.0)\n",
      "Value(data=0.0)\n",
      "Value(data=1.0)\n",
      "Value(data=0.0)\n"
     ]
    }
   ],
   "source": [
    "# inputs x1,x2\n",
    "x1 = Value(2.0, label='x1')\n",
    "x2 = Value(0.0, label='x2')\n",
    "# weights w1,w2\n",
    "w1 = Value(-3.0, label='w1')\n",
    "w2 = Value(1.0, label='w2')\n",
    "# bias of the neuron\n",
    "b = Value(6.8813735870195432, label='b')\n",
    "# x1*w1 + x2*w2 + b\n",
    "x1w1 = x1*w1; x1w1.label = 'x1*w1'\n",
    "x2w2 = x2*w2; x2w2.label = 'x2*w2'\n",
    "x1w1x2w2 = x1w1 + x2w2; x1w1x2w2.label = 'x1*w1 + x2*w2'\n",
    "n = x1w1x2w2 + b; n.label = 'n'\n",
    "o = n.tanh(); o.label = 'o'\n",
    "o.backward()"
   ]
  },
  {
   "cell_type": "markdown",
   "id": "acd94844-4ed9-4e72-a341-bc5f9e6c41b7",
   "metadata": {},
   "source": [
    "Last time stamp: 1:09"
   ]
  },
  {
   "cell_type": "code",
   "execution_count": 123,
   "id": "6199208a-0b59-423c-9744-645b1950bb34",
   "metadata": {},
   "outputs": [
    {
     "data": {
      "image/svg+xml": [
       "<?xml version=\"1.0\" encoding=\"UTF-8\" standalone=\"no\"?>\n",
       "<!DOCTYPE svg PUBLIC \"-//W3C//DTD SVG 1.1//EN\"\n",
       " \"http://www.w3.org/Graphics/SVG/1.1/DTD/svg11.dtd\">\n",
       "<!-- Generated by graphviz version 12.1.2 (20240928.0832)\n",
       " -->\n",
       "<!-- Pages: 1 -->\n",
       "<svg width=\"1567pt\" height=\"210pt\"\n",
       " viewBox=\"0.00 0.00 1566.50 210.00\" xmlns=\"http://www.w3.org/2000/svg\" xmlns:xlink=\"http://www.w3.org/1999/xlink\">\n",
       "<g id=\"graph0\" class=\"graph\" transform=\"scale(1 1) rotate(0) translate(4 206)\">\n",
       "<polygon fill=\"white\" stroke=\"none\" points=\"-4,4 -4,-206 1562.5,-206 1562.5,4 -4,4\"/>\n",
       "<!-- 4744550768 -->\n",
       "<g id=\"node1\" class=\"node\">\n",
       "<title>4744550768</title>\n",
       "<polygon fill=\"none\" stroke=\"black\" points=\"3.75,-165.5 3.75,-201.5 194.25,-201.5 194.25,-165.5 3.75,-165.5\"/>\n",
       "<text text-anchor=\"middle\" x=\"18.5\" y=\"-178.7\" font-family=\"Times,serif\" font-size=\"14.00\">x2</text>\n",
       "<polyline fill=\"none\" stroke=\"black\" points=\"33.25,-166 33.25,-201.5\"/>\n",
       "<text text-anchor=\"middle\" x=\"73.12\" y=\"-178.7\" font-family=\"Times,serif\" font-size=\"14.00\">data 0.0000</text>\n",
       "<polyline fill=\"none\" stroke=\"black\" points=\"113,-166 113,-201.5\"/>\n",
       "<text text-anchor=\"middle\" x=\"153.62\" y=\"-178.7\" font-family=\"Times,serif\" font-size=\"14.00\">grad 0.5000</text>\n",
       "</g>\n",
       "<!-- 4744556384* -->\n",
       "<g id=\"node8\" class=\"node\">\n",
       "<title>4744556384*</title>\n",
       "<ellipse fill=\"none\" stroke=\"black\" cx=\"261\" cy=\"-128.5\" rx=\"27\" ry=\"18\"/>\n",
       "<text text-anchor=\"middle\" x=\"261\" y=\"-123.45\" font-family=\"Times,serif\" font-size=\"14.00\">*</text>\n",
       "</g>\n",
       "<!-- 4744550768&#45;&gt;4744556384* -->\n",
       "<g id=\"edge12\" class=\"edge\">\n",
       "<title>4744550768&#45;&gt;4744556384*</title>\n",
       "<path fill=\"none\" stroke=\"black\" d=\"M172.12,-165.01C180.9,-162.35 189.7,-159.5 198,-156.5 208.09,-152.86 218.82,-148.27 228.47,-143.88\"/>\n",
       "<polygon fill=\"black\" stroke=\"black\" points=\"229.86,-147.09 237.45,-139.69 226.9,-140.75 229.86,-147.09\"/>\n",
       "</g>\n",
       "<!-- 4744548896 -->\n",
       "<g id=\"node2\" class=\"node\">\n",
       "<title>4744548896</title>\n",
       "<polygon fill=\"none\" stroke=\"black\" points=\"0,-55.5 0,-91.5 198,-91.5 198,-55.5 0,-55.5\"/>\n",
       "<text text-anchor=\"middle\" x=\"16.25\" y=\"-68.7\" font-family=\"Times,serif\" font-size=\"14.00\">w1</text>\n",
       "<polyline fill=\"none\" stroke=\"black\" points=\"32.5,-56 32.5,-91.5\"/>\n",
       "<text text-anchor=\"middle\" x=\"74.62\" y=\"-68.7\" font-family=\"Times,serif\" font-size=\"14.00\">data &#45;3.0000</text>\n",
       "<polyline fill=\"none\" stroke=\"black\" points=\"116.75,-56 116.75,-91.5\"/>\n",
       "<text text-anchor=\"middle\" x=\"157.38\" y=\"-68.7\" font-family=\"Times,serif\" font-size=\"14.00\">grad 1.0000</text>\n",
       "</g>\n",
       "<!-- 4744555568* -->\n",
       "<g id=\"node4\" class=\"node\">\n",
       "<title>4744555568*</title>\n",
       "<ellipse fill=\"none\" stroke=\"black\" cx=\"261\" cy=\"-73.5\" rx=\"27\" ry=\"18\"/>\n",
       "<text text-anchor=\"middle\" x=\"261\" y=\"-68.45\" font-family=\"Times,serif\" font-size=\"14.00\">*</text>\n",
       "</g>\n",
       "<!-- 4744548896&#45;&gt;4744555568* -->\n",
       "<g id=\"edge13\" class=\"edge\">\n",
       "<title>4744548896&#45;&gt;4744555568*</title>\n",
       "<path fill=\"none\" stroke=\"black\" d=\"M198.14,-73.5C206.61,-73.5 214.8,-73.5 222.29,-73.5\"/>\n",
       "<polygon fill=\"black\" stroke=\"black\" points=\"222.29,-77 232.29,-73.5 222.29,-70 222.29,-77\"/>\n",
       "</g>\n",
       "<!-- 4744555568 -->\n",
       "<g id=\"node3\" class=\"node\">\n",
       "<title>4744555568</title>\n",
       "<polygon fill=\"none\" stroke=\"black\" points=\"324,-55.5 324,-91.5 542.25,-91.5 542.25,-55.5 324,-55.5\"/>\n",
       "<text text-anchor=\"middle\" x=\"350.38\" y=\"-68.7\" font-family=\"Times,serif\" font-size=\"14.00\">x1*w1</text>\n",
       "<polyline fill=\"none\" stroke=\"black\" points=\"376.75,-56 376.75,-91.5\"/>\n",
       "<text text-anchor=\"middle\" x=\"418.88\" y=\"-68.7\" font-family=\"Times,serif\" font-size=\"14.00\">data &#45;6.0000</text>\n",
       "<polyline fill=\"none\" stroke=\"black\" points=\"461,-56 461,-91.5\"/>\n",
       "<text text-anchor=\"middle\" x=\"501.62\" y=\"-68.7\" font-family=\"Times,serif\" font-size=\"14.00\">grad 0.5000</text>\n",
       "</g>\n",
       "<!-- 4744549232+ -->\n",
       "<g id=\"node10\" class=\"node\">\n",
       "<title>4744549232+</title>\n",
       "<ellipse fill=\"none\" stroke=\"black\" cx=\"605.25\" cy=\"-100.5\" rx=\"27\" ry=\"18\"/>\n",
       "<text text-anchor=\"middle\" x=\"605.25\" y=\"-95.45\" font-family=\"Times,serif\" font-size=\"14.00\">+</text>\n",
       "</g>\n",
       "<!-- 4744555568&#45;&gt;4744549232+ -->\n",
       "<g id=\"edge7\" class=\"edge\">\n",
       "<title>4744555568&#45;&gt;4744549232+</title>\n",
       "<path fill=\"none\" stroke=\"black\" d=\"M542.35,-90.68C551.12,-92.07 559.54,-93.4 567.19,-94.62\"/>\n",
       "<polygon fill=\"black\" stroke=\"black\" points=\"566.59,-98.07 577.02,-96.18 567.69,-91.15 566.59,-98.07\"/>\n",
       "</g>\n",
       "<!-- 4744555568*&#45;&gt;4744555568 -->\n",
       "<g id=\"edge1\" class=\"edge\">\n",
       "<title>4744555568*&#45;&gt;4744555568</title>\n",
       "<path fill=\"none\" stroke=\"black\" d=\"M288.21,-73.5C295.29,-73.5 303.43,-73.5 312.17,-73.5\"/>\n",
       "<polygon fill=\"black\" stroke=\"black\" points=\"312.01,-77 322.01,-73.5 312.01,-70 312.01,-77\"/>\n",
       "</g>\n",
       "<!-- 4744553744 -->\n",
       "<g id=\"node5\" class=\"node\">\n",
       "<title>4744553744</title>\n",
       "<polygon fill=\"none\" stroke=\"black\" points=\"1065,-54.5 1065,-90.5 1248.75,-90.5 1248.75,-54.5 1065,-54.5\"/>\n",
       "<text text-anchor=\"middle\" x=\"1076.38\" y=\"-67.7\" font-family=\"Times,serif\" font-size=\"14.00\">n</text>\n",
       "<polyline fill=\"none\" stroke=\"black\" points=\"1087.75,-55 1087.75,-90.5\"/>\n",
       "<text text-anchor=\"middle\" x=\"1127.62\" y=\"-67.7\" font-family=\"Times,serif\" font-size=\"14.00\">data 0.8814</text>\n",
       "<polyline fill=\"none\" stroke=\"black\" points=\"1167.5,-55 1167.5,-90.5\"/>\n",
       "<text text-anchor=\"middle\" x=\"1208.12\" y=\"-67.7\" font-family=\"Times,serif\" font-size=\"14.00\">grad 0.5000</text>\n",
       "</g>\n",
       "<!-- 4533466080tanh -->\n",
       "<g id=\"node15\" class=\"node\">\n",
       "<title>4533466080tanh</title>\n",
       "<ellipse fill=\"none\" stroke=\"black\" cx=\"1311.75\" cy=\"-72.5\" rx=\"27\" ry=\"18\"/>\n",
       "<text text-anchor=\"middle\" x=\"1311.75\" y=\"-67.45\" font-family=\"Times,serif\" font-size=\"14.00\">tanh</text>\n",
       "</g>\n",
       "<!-- 4744553744&#45;&gt;4533466080tanh -->\n",
       "<g id=\"edge14\" class=\"edge\">\n",
       "<title>4744553744&#45;&gt;4533466080tanh</title>\n",
       "<path fill=\"none\" stroke=\"black\" d=\"M1249.01,-72.5C1257.39,-72.5 1265.52,-72.5 1272.98,-72.5\"/>\n",
       "<polygon fill=\"black\" stroke=\"black\" points=\"1272.95,-76 1282.95,-72.5 1272.95,-69 1272.95,-76\"/>\n",
       "</g>\n",
       "<!-- 4744553744+ -->\n",
       "<g id=\"node6\" class=\"node\">\n",
       "<title>4744553744+</title>\n",
       "<ellipse fill=\"none\" stroke=\"black\" cx=\"1002\" cy=\"-72.5\" rx=\"27\" ry=\"18\"/>\n",
       "<text text-anchor=\"middle\" x=\"1002\" y=\"-67.45\" font-family=\"Times,serif\" font-size=\"14.00\">+</text>\n",
       "</g>\n",
       "<!-- 4744553744+&#45;&gt;4744553744 -->\n",
       "<g id=\"edge2\" class=\"edge\">\n",
       "<title>4744553744+&#45;&gt;4744553744</title>\n",
       "<path fill=\"none\" stroke=\"black\" d=\"M1029.28,-72.5C1036.42,-72.5 1044.61,-72.5 1053.32,-72.5\"/>\n",
       "<polygon fill=\"black\" stroke=\"black\" points=\"1053.06,-76 1063.06,-72.5 1053.06,-69 1053.06,-76\"/>\n",
       "</g>\n",
       "<!-- 4744556384 -->\n",
       "<g id=\"node7\" class=\"node\">\n",
       "<title>4744556384</title>\n",
       "<polygon fill=\"none\" stroke=\"black\" points=\"326.25,-110.5 326.25,-146.5 540,-146.5 540,-110.5 326.25,-110.5\"/>\n",
       "<text text-anchor=\"middle\" x=\"352.62\" y=\"-123.7\" font-family=\"Times,serif\" font-size=\"14.00\">x2*w2</text>\n",
       "<polyline fill=\"none\" stroke=\"black\" points=\"379,-111 379,-146.5\"/>\n",
       "<text text-anchor=\"middle\" x=\"418.88\" y=\"-123.7\" font-family=\"Times,serif\" font-size=\"14.00\">data 0.0000</text>\n",
       "<polyline fill=\"none\" stroke=\"black\" points=\"458.75,-111 458.75,-146.5\"/>\n",
       "<text text-anchor=\"middle\" x=\"499.38\" y=\"-123.7\" font-family=\"Times,serif\" font-size=\"14.00\">grad 0.5000</text>\n",
       "</g>\n",
       "<!-- 4744556384&#45;&gt;4744549232+ -->\n",
       "<g id=\"edge8\" class=\"edge\">\n",
       "<title>4744556384&#45;&gt;4744549232+</title>\n",
       "<path fill=\"none\" stroke=\"black\" d=\"M540.42,-111.01C549.89,-109.45 559,-107.95 567.21,-106.6\"/>\n",
       "<polygon fill=\"black\" stroke=\"black\" points=\"567.75,-110.05 577.05,-104.98 566.62,-103.15 567.75,-110.05\"/>\n",
       "</g>\n",
       "<!-- 4744556384*&#45;&gt;4744556384 -->\n",
       "<g id=\"edge3\" class=\"edge\">\n",
       "<title>4744556384*&#45;&gt;4744556384</title>\n",
       "<path fill=\"none\" stroke=\"black\" d=\"M288.21,-128.5C296,-128.5 305.08,-128.5 314.82,-128.5\"/>\n",
       "<polygon fill=\"black\" stroke=\"black\" points=\"314.55,-132 324.55,-128.5 314.55,-125 314.55,-132\"/>\n",
       "</g>\n",
       "<!-- 4744549232 -->\n",
       "<g id=\"node9\" class=\"node\">\n",
       "<title>4744549232</title>\n",
       "<polygon fill=\"none\" stroke=\"black\" points=\"668.25,-82.5 668.25,-118.5 939,-118.5 939,-82.5 668.25,-82.5\"/>\n",
       "<text text-anchor=\"middle\" x=\"720.88\" y=\"-95.7\" font-family=\"Times,serif\" font-size=\"14.00\">x1*w1 + x2*w2</text>\n",
       "<polyline fill=\"none\" stroke=\"black\" points=\"773.5,-83 773.5,-118.5\"/>\n",
       "<text text-anchor=\"middle\" x=\"815.62\" y=\"-95.7\" font-family=\"Times,serif\" font-size=\"14.00\">data &#45;6.0000</text>\n",
       "<polyline fill=\"none\" stroke=\"black\" points=\"857.75,-83 857.75,-118.5\"/>\n",
       "<text text-anchor=\"middle\" x=\"898.38\" y=\"-95.7\" font-family=\"Times,serif\" font-size=\"14.00\">grad 0.5000</text>\n",
       "</g>\n",
       "<!-- 4744549232&#45;&gt;4744553744+ -->\n",
       "<g id=\"edge9\" class=\"edge\">\n",
       "<title>4744549232&#45;&gt;4744553744+</title>\n",
       "<path fill=\"none\" stroke=\"black\" d=\"M934.24,-82.02C944.99,-80.49 955.18,-79.03 964.21,-77.75\"/>\n",
       "<polygon fill=\"black\" stroke=\"black\" points=\"964.46,-81.25 973.86,-76.37 963.47,-74.32 964.46,-81.25\"/>\n",
       "</g>\n",
       "<!-- 4744549232+&#45;&gt;4744549232 -->\n",
       "<g id=\"edge4\" class=\"edge\">\n",
       "<title>4744549232+&#45;&gt;4744549232</title>\n",
       "<path fill=\"none\" stroke=\"black\" d=\"M632.73,-100.5C639.73,-100.5 647.79,-100.5 656.52,-100.5\"/>\n",
       "<polygon fill=\"black\" stroke=\"black\" points=\"656.39,-104 666.39,-100.5 656.39,-97 656.39,-104\"/>\n",
       "</g>\n",
       "<!-- 4744553360 -->\n",
       "<g id=\"node11\" class=\"node\">\n",
       "<title>4744553360</title>\n",
       "<polygon fill=\"none\" stroke=\"black\" points=\"2.25,-110.5 2.25,-146.5 195.75,-146.5 195.75,-110.5 2.25,-110.5\"/>\n",
       "<text text-anchor=\"middle\" x=\"18.5\" y=\"-123.7\" font-family=\"Times,serif\" font-size=\"14.00\">w2</text>\n",
       "<polyline fill=\"none\" stroke=\"black\" points=\"34.75,-111 34.75,-146.5\"/>\n",
       "<text text-anchor=\"middle\" x=\"74.62\" y=\"-123.7\" font-family=\"Times,serif\" font-size=\"14.00\">data 1.0000</text>\n",
       "<polyline fill=\"none\" stroke=\"black\" points=\"114.5,-111 114.5,-146.5\"/>\n",
       "<text text-anchor=\"middle\" x=\"155.12\" y=\"-123.7\" font-family=\"Times,serif\" font-size=\"14.00\">grad 0.0000</text>\n",
       "</g>\n",
       "<!-- 4744553360&#45;&gt;4744556384* -->\n",
       "<g id=\"edge10\" class=\"edge\">\n",
       "<title>4744553360&#45;&gt;4744556384*</title>\n",
       "<path fill=\"none\" stroke=\"black\" d=\"M195.84,-128.5C205.14,-128.5 214.15,-128.5 222.32,-128.5\"/>\n",
       "<polygon fill=\"black\" stroke=\"black\" points=\"222.13,-132 232.13,-128.5 222.13,-125 222.13,-132\"/>\n",
       "</g>\n",
       "<!-- 4744550336 -->\n",
       "<g id=\"node12\" class=\"node\">\n",
       "<title>4744550336</title>\n",
       "<polygon fill=\"none\" stroke=\"black\" points=\"711.75,-27.5 711.75,-63.5 895.5,-63.5 895.5,-27.5 711.75,-27.5\"/>\n",
       "<text text-anchor=\"middle\" x=\"723.12\" y=\"-40.7\" font-family=\"Times,serif\" font-size=\"14.00\">b</text>\n",
       "<polyline fill=\"none\" stroke=\"black\" points=\"734.5,-28 734.5,-63.5\"/>\n",
       "<text text-anchor=\"middle\" x=\"774.38\" y=\"-40.7\" font-family=\"Times,serif\" font-size=\"14.00\">data 6.8814</text>\n",
       "<polyline fill=\"none\" stroke=\"black\" points=\"814.25,-28 814.25,-63.5\"/>\n",
       "<text text-anchor=\"middle\" x=\"854.88\" y=\"-40.7\" font-family=\"Times,serif\" font-size=\"14.00\">grad 0.5000</text>\n",
       "</g>\n",
       "<!-- 4744550336&#45;&gt;4744553744+ -->\n",
       "<g id=\"edge6\" class=\"edge\">\n",
       "<title>4744550336&#45;&gt;4744553744+</title>\n",
       "<path fill=\"none\" stroke=\"black\" d=\"M895.91,-58.05C919.97,-61.36 944.58,-64.74 963.93,-67.4\"/>\n",
       "<polygon fill=\"black\" stroke=\"black\" points=\"963.36,-70.86 973.75,-68.75 964.32,-63.92 963.36,-70.86\"/>\n",
       "</g>\n",
       "<!-- 4744553936 -->\n",
       "<g id=\"node13\" class=\"node\">\n",
       "<title>4744553936</title>\n",
       "<polygon fill=\"none\" stroke=\"black\" points=\"1.5,-0.5 1.5,-36.5 196.5,-36.5 196.5,-0.5 1.5,-0.5\"/>\n",
       "<text text-anchor=\"middle\" x=\"16.25\" y=\"-13.7\" font-family=\"Times,serif\" font-size=\"14.00\">x1</text>\n",
       "<polyline fill=\"none\" stroke=\"black\" points=\"31,-1 31,-36.5\"/>\n",
       "<text text-anchor=\"middle\" x=\"70.88\" y=\"-13.7\" font-family=\"Times,serif\" font-size=\"14.00\">data 2.0000</text>\n",
       "<polyline fill=\"none\" stroke=\"black\" points=\"110.75,-1 110.75,-36.5\"/>\n",
       "<text text-anchor=\"middle\" x=\"153.62\" y=\"-13.7\" font-family=\"Times,serif\" font-size=\"14.00\">grad &#45;1.5000</text>\n",
       "</g>\n",
       "<!-- 4744553936&#45;&gt;4744555568* -->\n",
       "<g id=\"edge11\" class=\"edge\">\n",
       "<title>4744553936&#45;&gt;4744555568*</title>\n",
       "<path fill=\"none\" stroke=\"black\" d=\"M172.12,-36.99C180.9,-39.65 189.7,-42.5 198,-45.5 208.09,-49.14 218.82,-53.73 228.47,-58.12\"/>\n",
       "<polygon fill=\"black\" stroke=\"black\" points=\"226.9,-61.25 237.45,-62.31 229.86,-54.91 226.9,-61.25\"/>\n",
       "</g>\n",
       "<!-- 4533466080 -->\n",
       "<g id=\"node14\" class=\"node\">\n",
       "<title>4533466080</title>\n",
       "<polygon fill=\"none\" stroke=\"black\" points=\"1374.75,-54.5 1374.75,-90.5 1558.5,-90.5 1558.5,-54.5 1374.75,-54.5\"/>\n",
       "<text text-anchor=\"middle\" x=\"1386.12\" y=\"-67.7\" font-family=\"Times,serif\" font-size=\"14.00\">o</text>\n",
       "<polyline fill=\"none\" stroke=\"black\" points=\"1397.5,-55 1397.5,-90.5\"/>\n",
       "<text text-anchor=\"middle\" x=\"1437.38\" y=\"-67.7\" font-family=\"Times,serif\" font-size=\"14.00\">data 0.7071</text>\n",
       "<polyline fill=\"none\" stroke=\"black\" points=\"1477.25,-55 1477.25,-90.5\"/>\n",
       "<text text-anchor=\"middle\" x=\"1517.88\" y=\"-67.7\" font-family=\"Times,serif\" font-size=\"14.00\">grad 1.0000</text>\n",
       "</g>\n",
       "<!-- 4533466080tanh&#45;&gt;4533466080 -->\n",
       "<g id=\"edge5\" class=\"edge\">\n",
       "<title>4533466080tanh&#45;&gt;4533466080</title>\n",
       "<path fill=\"none\" stroke=\"black\" d=\"M1339.03,-72.5C1346.17,-72.5 1354.36,-72.5 1363.07,-72.5\"/>\n",
       "<polygon fill=\"black\" stroke=\"black\" points=\"1362.81,-76 1372.81,-72.5 1362.81,-69 1362.81,-76\"/>\n",
       "</g>\n",
       "</g>\n",
       "</svg>\n"
      ],
      "text/plain": [
       "<graphviz.graphs.Digraph at 0x11acc0950>"
      ]
     },
     "execution_count": 123,
     "metadata": {},
     "output_type": "execute_result"
    }
   ],
   "source": [
    "draw_dot(o)"
   ]
  },
  {
   "cell_type": "code",
   "execution_count": 124,
   "id": "5a694570-ae1e-497a-bb77-ed159761598d",
   "metadata": {},
   "outputs": [
    {
     "name": "stdout",
     "output_type": "stream",
     "text": [
      "Value(data=0.7071067811865477)\n",
      "Value(data=0.1464466094067262)\n",
      "Value(data=6.828427124746192)\n",
      "Value(data=5.828427124746192)\n",
      "Value(data=1.7627471740390863)\n",
      "Value(data=2)\n",
      "Value(data=0.8813735870195432)\n",
      "Value(data=-6.0)\n",
      "Value(data=0.0)\n",
      "Value(data=1.0)\n",
      "Value(data=0.0)\n",
      "Value(data=-6.0)\n",
      "Value(data=2.0)\n",
      "Value(data=-3.0)\n",
      "Value(data=6.881373587019543)\n",
      "Value(data=1)\n",
      "Value(data=4.828427124746192)\n",
      "Value(data=-1)\n"
     ]
    }
   ],
   "source": [
    "# inputs x1,x2\n",
    "x1 = Value(2.0, label='x1')\n",
    "x2 = Value(0.0, label='x2')\n",
    "# weights w1,w2\n",
    "w1 = Value(-3.0, label='w1')\n",
    "w2 = Value(1.0, label='w2')\n",
    "# bias of the neuron\n",
    "b = Value(6.8813735870195432, label='b')\n",
    "# x1*w1 + x2*w2 + b\n",
    "x1w1 = x1*w1; x1w1.label = 'x1*w1'\n",
    "x2w2 = x2*w2; x2w2.label = 'x2*w2'\n",
    "x1w1x2w2 = x1w1 + x2w2; x1w1x2w2.label = 'x1*w1 + x2*w2'\n",
    "n = x1w1x2w2 + b; n.label = 'n'\n",
    "e = (2*n).exp()\n",
    "o = (e - 1) / (e + 1)\n",
    "o.label = 'o'\n",
    "o.backward()"
   ]
  },
  {
   "cell_type": "code",
   "execution_count": 125,
   "id": "7104fddb-f0c6-4f25-bfca-c3247c631cfc",
   "metadata": {},
   "outputs": [
    {
     "name": "stdout",
     "output_type": "stream",
     "text": [
      "0.7071066904050358\n",
      "---\n",
      "x2 0.5000001283844369\n",
      "w2 0.0\n",
      "x1 -1.5000003851533106\n",
      "w1 1.0000002567688737\n"
     ]
    }
   ],
   "source": [
    "import torch\n",
    "x1 = torch.Tensor([2.0]).double()                ; x1.requires_grad = True\n",
    "x2 = torch.Tensor([0.0]).double()                ; x2.requires_grad = True\n",
    "w1 = torch.Tensor([-3.0]).double()               ; w1.requires_grad = True\n",
    "w2 = torch.Tensor([1.0]).double()                ; w2.requires_grad = True\n",
    "b = torch.Tensor([6.8813735870195432]).double()  ; b.requires_grad = True\n",
    "n = x1*w1 + x2*w2 + b\n",
    "o = torch.tanh(n)\n",
    "\n",
    "print(o.data.item())\n",
    "o.backward()\n",
    "\n",
    "print('---')\n",
    "print('x2', x2.grad.item())\n",
    "print('w2', w2.grad.item())\n",
    "print('x1', x1.grad.item())\n",
    "print('w1', w1.grad.item())"
   ]
  },
  {
   "cell_type": "code",
   "execution_count": 126,
   "id": "f4cd8e35-1f14-4e56-8a82-ac05f83800f6",
   "metadata": {},
   "outputs": [
    {
     "data": {
      "text/plain": [
       "0.5000001283844369"
      ]
     },
     "execution_count": 126,
     "metadata": {},
     "output_type": "execute_result"
    }
   ],
   "source": [
    "x2.grad.item()"
   ]
  },
  {
   "cell_type": "code",
   "execution_count": 106,
   "id": "7ed058b6-f3ec-4811-9b50-78d1ef25e45f",
   "metadata": {},
   "outputs": [
    {
     "data": {
      "text/plain": [
       "Value(data=0.835519661773241)"
      ]
     },
     "execution_count": 106,
     "metadata": {},
     "output_type": "execute_result"
    }
   ],
   "source": [
    "import random\n",
    "class Neuron:\n",
    "    def __init__(self, nin):\n",
    "        self.w = [Value(random.uniform(-1,1)) for _ in range(nin)]\n",
    "        self.b = Value(random.uniform(-1,1))\n",
    "\n",
    "    def __call__(self, x):\n",
    "        # w * x + b\n",
    "        act = sum((wi*xi for wi, xi in zip(self.w, x)), self.b)\n",
    "        out = act.tanh()\n",
    "        return out\n",
    "\n",
    "    def parameters(self):\n",
    "        return self.w + [self.b]\n",
    "\n",
    "class Layer:\n",
    "\n",
    "    def __init__(self, nin, nout):\n",
    "        self.neurons = [Neuron(nin) for _ in range(nout)]\n",
    "\n",
    "    def __call__(self, x):\n",
    "        outs = [n(x) for n in self.neurons]\n",
    "        return outs[0] if len(outs) == 1 else outs\n",
    "\n",
    "    def parameters(self):\n",
    "        return [p for neuron in self.neurons for p in neuron.parameters()]\n",
    "\n",
    "class MLP:\n",
    "    def __init__(self, nin, nouts):\n",
    "        sz = [nin] + nouts\n",
    "        self.layers = [Layer(sz[i], sz[i+1]) for i in range(len(nouts))]\n",
    "\n",
    "    def __call__(self, x):\n",
    "        for layer in self.layers:\n",
    "            x = layer(x)\n",
    "        return x\n",
    "\n",
    "    def parameters(self):\n",
    "        return [p for layer in self.layers for p in layer.parameters()]\n",
    "\n",
    "x = [2.0, 3.0, -1.0]\n",
    "n = MLP(3, [4, 4, 1])\n",
    "n(x)"
   ]
  },
  {
   "cell_type": "code",
   "execution_count": 107,
   "id": "415a09e1-5b7d-4478-a23b-3eeff80d6d93",
   "metadata": {},
   "outputs": [],
   "source": [
    "xs = [\n",
    "  [2.0, 3.0, -1.0],\n",
    "  [3.0, -1.0, 0.5],\n",
    "  [0.5, 1.0, 1.0],\n",
    "  [1.0, 1.0, -1.0],\n",
    "]\n",
    "ys = [1.0, -1.0, -1.0, 1.0] # desired targets"
   ]
  },
  {
   "cell_type": "code",
   "execution_count": 108,
   "id": "c8bc4608-1980-4105-8a00-d34ba69b4a64",
   "metadata": {},
   "outputs": [
    {
     "name": "stdout",
     "output_type": "stream",
     "text": [
      "0 3.8057929007555784\n",
      "1 1.4740512940756618\n",
      "2 0.3860607521698658\n",
      "3 0.23088522983402304\n",
      "4 0.17259745684458022\n",
      "5 0.13714292822892862\n",
      "6 0.113323778231324\n",
      "7 0.09627962294356843\n",
      "8 0.08351646717431421\n",
      "9 0.07362319250065803\n",
      "10 0.06574315848283874\n",
      "11 0.05932730502064307\n",
      "12 0.05400808276179854\n",
      "13 0.0495305186699332\n",
      "14 0.04571238440943677\n",
      "15 0.042420105386055805\n",
      "16 0.03955361791708466\n",
      "17 0.03703653197468119\n",
      "18 0.0348095555482525\n",
      "19 0.03282598806276683\n"
     ]
    }
   ],
   "source": [
    "for k in range(20):\n",
    "\n",
    "    # forward pass\n",
    "    ypred = [n(x) for x in xs]\n",
    "    loss = sum((yout - ygt)**2 for ygt, yout in zip(ys, ypred))\n",
    "\n",
    "    # zero grad\n",
    "    for p in n.parameters():\n",
    "        p.grad = 0.0\n",
    "    \n",
    "    # backward pass\n",
    "    loss.backward()\n",
    "\n",
    "    # update\n",
    "    for p in n.parameters():\n",
    "        p.data+= -0.05 * p.grad\n",
    "\n",
    "    print(k, loss.data)\n",
    "    "
   ]
  },
  {
   "cell_type": "code",
   "execution_count": 109,
   "id": "16e744c1-788d-4250-a54f-f02e89b67739",
   "metadata": {},
   "outputs": [
    {
     "data": {
      "text/plain": [
       "[Value(data=0.9465647238632354),\n",
       " Value(data=-0.9117858661351046),\n",
       " Value(data=-0.9022799115589097),\n",
       " Value(data=0.8875735341279183)]"
      ]
     },
     "execution_count": 109,
     "metadata": {},
     "output_type": "execute_result"
    }
   ],
   "source": [
    "ypred"
   ]
  },
  {
   "cell_type": "code",
   "execution_count": null,
   "id": "d26eb0f8-4000-46a8-8232-bcd1f27a4f72",
   "metadata": {},
   "outputs": [],
   "source": []
  }
 ],
 "metadata": {
  "kernelspec": {
   "display_name": "venv_SB_NLP",
   "language": "python",
   "name": "venv_sb_nlp"
  },
  "language_info": {
   "codemirror_mode": {
    "name": "ipython",
    "version": 3
   },
   "file_extension": ".py",
   "mimetype": "text/x-python",
   "name": "python",
   "nbconvert_exporter": "python",
   "pygments_lexer": "ipython3",
   "version": "3.12.7"
  }
 },
 "nbformat": 4,
 "nbformat_minor": 5
}
